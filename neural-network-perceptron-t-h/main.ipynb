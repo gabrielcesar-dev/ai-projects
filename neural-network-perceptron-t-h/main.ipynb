{
 "cells": [
  {
   "cell_type": "markdown",
   "metadata": {},
   "source": [
    "\n",
    "<br>\n",
    "Implementação de um Perceptron com Regra Delta (Perceptron treinável com Gradiente)<br>\n",
    "para discriminar dois caracteres: T e H, representados em uma matriz 3x3.<br>\n",
    "Requisitos do problema:<br>\n",
    "- Usar apenas um único neurônio (Perceptron com função de ativação sigmoid)<br>\n",
    "- Treinar usando a Regra Delta (gradiente descendente simples)<br>\n",
    "- Entrada: vetor com 9 elementos (matriz 3x3 flatten)<br>\n",
    "- Saída: 1 quando a entrada for o padrão T, 0 quando for o padrão H<br>\n",
    "- Exibir curva de erro durante o treinamento<br>\n",
    "- Testar capacidade de generalização (entradas distorcidas)<br>\n"
   ]
  },
  {
   "cell_type": "code",
   "execution_count": 1,
   "metadata": {},
   "outputs": [],
   "source": [
    "import numpy as np\n",
    "import matplotlib.pyplot as plt\n",
    "from typing import Tuple, List"
   ]
  },
  {
   "cell_type": "markdown",
   "metadata": {},
   "source": [
    "===== Funções auxiliares ====="
   ]
  },
  {
   "cell_type": "code",
   "execution_count": 2,
   "metadata": {},
   "outputs": [],
   "source": [
    "def sigmoid(x: np.ndarray) -> np.ndarray:\n",
    "    \"\"\"\n",
    "    Função de ativação sigmoid.\n",
    "    Recebe um array numpy e devolve um array numpy de mesma forma.\n",
    "    \"\"\"\n",
    "    return 1 / (1 + np.exp(-x))"
   ]
  },
  {
   "cell_type": "code",
   "execution_count": 3,
   "metadata": {},
   "outputs": [],
   "source": [
    "def sigmoid_derivative(output: np.ndarray) -> np.ndarray:\n",
    "    \"\"\"\n",
    "    Derivada da sigmoid em termos da própria saída.\n",
    "    \"\"\"\n",
    "    return output * (1 - output)"
   ]
  },
  {
   "cell_type": "code",
   "execution_count": 4,
   "metadata": {},
   "outputs": [],
   "source": [
    "def mse(y_true: np.ndarray, y_pred: np.ndarray) -> float:\n",
    "    \"\"\"\n",
    "    Calcula o erro quadrático médio (MSE) entre duas matrizes numpy.\n",
    "    \"\"\"\n",
    "    return float(np.mean((y_true - y_pred) ** 2))"
   ]
  },
  {
   "cell_type": "markdown",
   "metadata": {},
   "source": [
    "===== Perceptron com Regra Delta (Gradiente Descendente) ====="
   ]
  },
  {
   "cell_type": "code",
   "execution_count": 5,
   "metadata": {},
   "outputs": [],
   "source": [
    "class PerceptronDelta:\n",
    "    def __init__(self, n_inputs: int, lr: float = 0.1) -> None:\n",
    "        \"\"\"\n",
    "        Inicializa os pesos aleatórios pequenos.\n",
    "        Não tem bias, apenas pesos das entradas.\n",
    "        \"\"\"\n",
    "        self.lr: float = lr\n",
    "        self.weights: np.ndarray = np.random.randn(n_inputs) * 0.1  # Shape: (n_inputs,)\n",
    "    def predict(self, X: np.ndarray) -> np.ndarray:\n",
    "        \"\"\"\n",
    "        Faz uma predição para um conjunto de entradas.\n",
    "        Entrada:\n",
    "            X: matriz numpy (n_amostras, n_features)\n",
    "        Saída:\n",
    "            Vetor numpy com uma saída sigmoid por amostra → shape: (n_amostras,)\n",
    "        \"\"\"\n",
    "        net: np.ndarray = X.dot(self.weights)   # Shape: (n_amostras,)\n",
    "        out: np.ndarray = sigmoid(net)          # Shape: (n_amostras,)\n",
    "        return out\n",
    "    def train(self, X: np.ndarray, y: np.ndarray, epochs: int = 1000) -> List[float]:\n",
    "        \"\"\"\n",
    "        Treina o perceptron por múltiplas épocas.\n",
    "        X.shape = (n_amostras, n_features)\n",
    "        y.shape = (n_amostras, 1)\n",
    "        \"\"\"\n",
    "        error_history: List[float] = []\n",
    "        for ep in range(epochs):\n",
    "            net: np.ndarray = X.dot(self.weights)                    # Net input: (n_amostras,)\n",
    "            output: np.ndarray = sigmoid(net).reshape(-1, 1)         # Output: (n_amostras,1)\n",
    "\n",
    "            # Por que reshape? → Para garantir o mesmo shape de y (n_amostras,1)\n",
    "            error: np.ndarray = y - output                           # Erro por amostra: (n_amostras,1)\n",
    "            error_history.append(mse(y, output))                    # MSE dessa época\n",
    "            grad: np.ndarray = error * sigmoid_derivative(output)    # Gradiente por amostra: (n_amostras,1)\n",
    "\n",
    "            # Atualização de pesos: soma os gradientes de todas as amostras\n",
    "            update: np.ndarray = X.T.dot(grad).flatten()             # Update final: shape: (n_features,)\n",
    "            self.weights += self.lr * update                         # Ajuste dos pesos\n",
    "        return error_history"
   ]
  },
  {
   "cell_type": "markdown",
   "metadata": {},
   "source": [
    "===== Dados de entrada (Caracteres T e H em 3x3) ====="
   ]
  },
  {
   "cell_type": "code",
   "execution_count": 6,
   "metadata": {},
   "outputs": [],
   "source": [
    "T: np.ndarray = np.array([\n",
    "    [1,1,1],\n",
    "    [0,1,0],\n",
    "    [0,1,0]\n",
    "])"
   ]
  },
  {
   "cell_type": "code",
   "execution_count": 7,
   "metadata": {},
   "outputs": [],
   "source": [
    "H: np.ndarray = np.array([\n",
    "    [1,0,1],\n",
    "    [1,1,1],\n",
    "    [1,0,1]\n",
    "])"
   ]
  },
  {
   "cell_type": "markdown",
   "metadata": {},
   "source": [
    "Flatten para transformar 3x3 em vetor de 9 posições"
   ]
  },
  {
   "cell_type": "code",
   "execution_count": 8,
   "metadata": {},
   "outputs": [],
   "source": [
    "X: np.ndarray = np.vstack([T.flatten(), H.flatten()])  # Shape: (2,9)\n",
    "y: np.ndarray = np.array([[1], [0]])                  # Saídas: 1 para T, 0 para H → shape: (2,1)"
   ]
  },
  {
   "cell_type": "markdown",
   "metadata": {},
   "source": [
    "===== Treinamento ====="
   ]
  },
  {
   "cell_type": "code",
   "execution_count": 9,
   "metadata": {},
   "outputs": [],
   "source": [
    "perceptron: PerceptronDelta = PerceptronDelta(n_inputs=9, lr=0.5)\n",
    "error_history: List[float] = perceptron.train(X, y, epochs=500)"
   ]
  },
  {
   "cell_type": "markdown",
   "metadata": {},
   "source": [
    "===== Curva de erro ====="
   ]
  },
  {
   "cell_type": "code",
   "execution_count": 10,
   "metadata": {},
   "outputs": [
    {
     "data": {
      "image/png": "[encoded data removed]",
      "text/plain": [
       "<Figure size 800x500 with 1 Axes>"
      ]
     },
     "metadata": {},
     "output_type": "display_data"
    }
   ],
   "source": [
    "plt.figure(figsize=(8,5))\n",
    "plt.plot(error_history)\n",
    "plt.xlabel(\"Época\")\n",
    "plt.ylabel(\"MSE\")\n",
    "plt.title(\"Curva de Erro durante o Aprendizado\")\n",
    "plt.grid(True, alpha=0.3)\n",
    "plt.show()"
   ]
  },
  {
   "cell_type": "markdown",
   "metadata": {},
   "source": [
    "===== Testes com padrões originais ====="
   ]
  },
  {
   "cell_type": "code",
   "execution_count": 11,
   "metadata": {},
   "outputs": [
    {
     "name": "stdout",
     "output_type": "stream",
     "text": [
      "\n",
      "=== TESTES COM PADRÕES IDEAIS ===\n",
      "T: saída contínua = 0.971, classe = T\n",
      "H: saída contínua = 0.026, classe = H\n"
     ]
    }
   ],
   "source": [
    "print(\"\\n=== TESTES COM PADRÕES IDEAIS ===\")\n",
    "for name, pattern in [(\"T\", T), (\"H\", H)]:\n",
    "    input_pattern: np.ndarray = pattern.flatten().reshape(1, -1)\n",
    "    pred: float = perceptron.predict(input_pattern)[0]\n",
    "    print(f\"{name}: saída contínua = {pred:.3f}, classe = {'T' if pred>0.5 else 'H'}\")"
   ]
  },
  {
   "cell_type": "markdown",
   "metadata": {},
   "source": [
    "===== Testes com distorções ====="
   ]
  },
  {
   "cell_type": "markdown",
   "metadata": {},
   "source": [
    "T distorcido (flip em um pixel)"
   ]
  },
  {
   "cell_type": "code",
   "execution_count": 12,
   "metadata": {},
   "outputs": [
    {
     "name": "stdout",
     "output_type": "stream",
     "text": [
      "\n",
      "=== TESTE COM T DISTORCIDO ===\n",
      "T distorcido: saída = 0.961, classe = T\n"
     ]
    }
   ],
   "source": [
    "distorted_T: np.ndarray = T.copy()\n",
    "distorted_T[0,0] = 0\n",
    "print(\"\\n=== TESTE COM T DISTORCIDO ===\")\n",
    "pred_dist: float = perceptron.predict(distorted_T.flatten().reshape(1, -1))[0]\n",
    "print(f\"T distorcido: saída = {pred_dist:.3f}, classe = {'T' if pred_dist>0.5 else 'H'}\")"
   ]
  },
  {
   "cell_type": "markdown",
   "metadata": {},
   "source": [
    "H distorcido (flip em um pixel)"
   ]
  },
  {
   "cell_type": "code",
   "execution_count": 13,
   "metadata": {},
   "outputs": [
    {
     "name": "stdout",
     "output_type": "stream",
     "text": [
      "\n",
      "=== TESTE COM H DISTORCIDO ===\n",
      "H distorcido: saída = 0.020, classe = H\n"
     ]
    }
   ],
   "source": [
    "distorted_H: np.ndarray = H.copy()\n",
    "distorted_H[1,1] = 0\n",
    "print(\"\\n=== TESTE COM H DISTORCIDO ===\")\n",
    "pred_dist_H: float = perceptron.predict(distorted_H.flatten().reshape(1, -1))[0]\n",
    "print(f\"H distorcido: saída = {pred_dist_H:.3f}, classe = {'T' if pred_dist_H>0.5 else 'H'}\")"
   ]
  }
 ],
 "metadata": {
  "kernelspec": {
   "display_name": ".venv",
   "language": "python",
   "name": "python3"
  },
  "language_info": {
   "codemirror_mode": {
    "name": "ipython",
    "version": 3
   },
   "file_extension": ".py",
   "mimetype": "text/x-python",
   "name": "python",
   "nbconvert_exporter": "python",
   "pygments_lexer": "ipython3",
   "version": "3.13.3"
  }
 },
 "nbformat": 4,
 "nbformat_minor": 2
}
